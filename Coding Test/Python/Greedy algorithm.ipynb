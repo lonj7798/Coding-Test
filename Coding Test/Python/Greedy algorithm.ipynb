{
 "cells": [
  {
   "cell_type": "markdown",
   "id": "accredited-developer",
   "metadata": {},
   "source": [
    "### coin"
   ]
  },
  {
   "cell_type": "code",
   "execution_count": 2,
   "id": "electric-anxiety",
   "metadata": {},
   "outputs": [
    {
     "name": "stdout",
     "output_type": "stream",
     "text": [
      "[1, 100, 50, 500]\n",
      "[500, 100, 50, 1]\n"
     ]
    }
   ],
   "source": [
    "coin_list = [1, 100, 50, 500]\n",
    "print(coin_list)\n",
    "coin_list.sort(reverse=True)\n",
    "print(coin_list)"
   ]
  },
  {
   "cell_type": "code",
   "execution_count": 6,
   "id": "formal-priest",
   "metadata": {},
   "outputs": [],
   "source": [
    "coin_list = [500, 100, 50, 1]\n",
    "\n",
    "def min_coin_count(value, coin_list):\n",
    "    total_coin_count = 0\n",
    "    details = list()\n",
    "    coin_list.sort(reverse=True)\n",
    "    \n",
    "    for coin in coin_list:\n",
    "        coin_num = value // coin\n",
    "        total_coin_count += coin_num\n",
    "        value -= coin_num * coin\n",
    "        details.append([coin, coin_num])\n",
    "    \n",
    "    return total_coin_count, details"
   ]
  },
  {
   "cell_type": "code",
   "execution_count": 7,
   "id": "silver-roller",
   "metadata": {},
   "outputs": [
    {
     "data": {
      "text/plain": [
       "(31, [[500, 9], [100, 2], [50, 0], [1, 20]])"
      ]
     },
     "execution_count": 7,
     "metadata": {},
     "output_type": "execute_result"
    }
   ],
   "source": [
    "min_coin_count(4720, coin_list)"
   ]
  },
  {
   "cell_type": "markdown",
   "id": "stock-annual",
   "metadata": {},
   "source": [
    "### Fractional Knaspasck Problem"
   ]
  },
  {
   "cell_type": "code",
   "execution_count": 8,
   "id": "noted-characterization",
   "metadata": {},
   "outputs": [],
   "source": [
    "data_list = [(10,10), (15,12), (20,10), (25,10), (25,8), (30,5)]"
   ]
  },
  {
   "cell_type": "code",
   "execution_count": 12,
   "id": "parliamentary-anime",
   "metadata": {},
   "outputs": [],
   "source": [
    "def get_max_value(data_list, capacity):\n",
    "    data_list = sorted(data_list, key=lambda x: x[1] / x[0], reverse=True)\n",
    "    total_value = 0\n",
    "    details = list()\n",
    "    \n",
    "    for data in data_list:\n",
    "        if capacity - data[0] >= 0:\n",
    "            capacity -= data[0]\n",
    "            total_value += data[0]\n",
    "            details.append([data[0], data[1], 1])\n",
    "        else:\n",
    "            fraction = capacity / data[0]\n",
    "            total_value += data[1] * fraction\n",
    "            details.append([data[0], data[1], fraction])\n",
    "            break\n",
    "        \n",
    "    return total_value, details"
   ]
  },
  {
   "cell_type": "code",
   "execution_count": 13,
   "id": "after-vietnam",
   "metadata": {},
   "outputs": [
    {
     "data": {
      "text/plain": [
       "(27.5, [[10, 10, 1], [15, 12, 1], [20, 10, 0.25]])"
      ]
     },
     "execution_count": 13,
     "metadata": {},
     "output_type": "execute_result"
    }
   ],
   "source": [
    "get_max_value(data_list, 30)"
   ]
  },
  {
   "cell_type": "code",
   "execution_count": null,
   "id": "changing-desert",
   "metadata": {},
   "outputs": [],
   "source": []
  }
 ],
 "metadata": {
  "kernelspec": {
   "display_name": "Python 3",
   "language": "python",
   "name": "python3"
  },
  "language_info": {
   "codemirror_mode": {
    "name": "ipython",
    "version": 3
   },
   "file_extension": ".py",
   "mimetype": "text/x-python",
   "name": "python",
   "nbconvert_exporter": "python",
   "pygments_lexer": "ipython3",
   "version": "3.8.5"
  }
 },
 "nbformat": 4,
 "nbformat_minor": 5
}
