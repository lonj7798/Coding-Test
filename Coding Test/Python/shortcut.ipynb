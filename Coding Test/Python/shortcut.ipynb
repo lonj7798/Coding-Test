{
 "cells": [
  {
   "cell_type": "code",
   "execution_count": 1,
   "id": "timely-forest",
   "metadata": {},
   "outputs": [],
   "source": [
    "short = []\n",
    "index = ['0.집','1.미용실','2.슈퍼마켓','3.영어학원','4.레스토랑','5.은행','6.학교']\n",
    "short.append( [0,5,10,9,999,999,999] )\n",
    "short.append( [5,0,3,999,999,11,999] )\n",
    "short.append( [10,3,0,7,3,10,999] )\n",
    "short.append( [9,999,7,0,999,7,12] )\n",
    "short.append( [999,999,3,999,0,4,999] )\n",
    "short.append( [999,11,10,7,4,0,2] )\n",
    "short.append( [999,999,999,12,999,2,0] )"
   ]
  },
  {
   "cell_type": "code",
   "execution_count": 2,
   "id": "affected-optimization",
   "metadata": {},
   "outputs": [
    {
     "data": {
      "text/plain": [
       "[[0, 5, 10, 9, 999, 999, 999],\n",
       " [5, 0, 3, 999, 999, 11, 999],\n",
       " [10, 3, 0, 7, 3, 10, 999],\n",
       " [9, 999, 7, 0, 999, 7, 12],\n",
       " [999, 999, 3, 999, 0, 4, 999],\n",
       " [999, 11, 10, 7, 4, 0, 2],\n",
       " [999, 999, 999, 12, 999, 2, 0]]"
      ]
     },
     "execution_count": 2,
     "metadata": {},
     "output_type": "execute_result"
    }
   ],
   "source": [
    "short"
   ]
  },
  {
   "cell_type": "code",
   "execution_count": 3,
   "id": "frank-mount",
   "metadata": {},
   "outputs": [],
   "source": [
    "def convert_table(short, n):\n",
    "    for i in range(len(short)):\n",
    "        short[i].insert(0,short[i].pop(n[0]))\n",
    "        short[i].insert(len(short)-1, short[i].pop(n[1]))\n",
    "    short.insert(0,short.pop(n[0]))\n",
    "    short.insert(len(short)-1, short.pop(n[1]))    \n",
    "    return short"
   ]
  },
  {
   "cell_type": "code",
   "execution_count": 6,
   "id": "liable-approach",
   "metadata": {},
   "outputs": [],
   "source": [
    "def calc_table(short):\n",
    "    for n in range(2,len(short)):\n",
    "        for i in range(len(short)-n):\n",
    "            temp = []\n",
    "            for j in range(n):\n",
    "                if j == (n-1):\n",
    "                    temp.append(short[i+j+1][i])\n",
    "                else:\n",
    "                    temp.append(short[i+j+1][i]+short[i+n][i+j+1])\n",
    "            short[i+n][i] = min(temp)        \n",
    "            del temp        \n",
    "    return short"
   ]
  },
  {
   "cell_type": "code",
   "execution_count": 7,
   "id": "automotive-picnic",
   "metadata": {},
   "outputs": [
    {
     "name": "stdout",
     "output_type": "stream",
     "text": [
      "['0.집', '1.미용실', '2.슈퍼마켓', '3.영어학원', '4.레스토랑', '5.은행', '6.학교']\n",
      "시작점과 도착점을 공백으로 구분해서 입력해주세요. : \n",
      "ex) 1 3\n"
     ]
    }
   ],
   "source": [
    "print(index)\n",
    "print('시작점과 도착점을 공백으로 구분해서 입력해주세요. : ')\n",
    "print('ex) 1 3')"
   ]
  },
  {
   "cell_type": "code",
   "execution_count": 8,
   "id": "forced-kernel",
   "metadata": {},
   "outputs": [
    {
     "name": "stdout",
     "output_type": "stream",
     "text": [
      "1 3\n"
     ]
    }
   ],
   "source": [
    "while True:\n",
    "    try:\n",
    "        i = sorted(list(map(int,input().split())))\n",
    "        if i[0] < 0 or i[1] >= len(short) :\n",
    "            raise ValueError\n",
    "        break\n",
    "    except ValueError:\n",
    "        print('위치 인덱스를 잘못 입력했습니다. ')"
   ]
  },
  {
   "cell_type": "code",
   "execution_count": 9,
   "id": "multiple-visiting",
   "metadata": {},
   "outputs": [
    {
     "name": "stdout",
     "output_type": "stream",
     "text": [
      "[0, 5, 3, 999, 11, 999, 999]\n",
      "[5, 0, 10, 999, 999, 999, 9]\n",
      "[3, 10, 0, 3, 10, 999, 7]\n",
      "[6, 13, 3, 0, 4, 999, 999]\n",
      "[10, 17, 7, 4, 0, 2, 7]\n",
      "[12, 19, 9, 6, 2, 0, 12]\n",
      "[10, 9, 7, 11, 7, 12, 0]\n",
      "1.미용실 과 3.영어학원 의 최단거리는 10 입니다.\n"
     ]
    }
   ],
   "source": [
    "if index[i[0]] == index[i[1]]:\n",
    "    distance = 0\n",
    "else:\n",
    "    short = convert_table(short, i)\n",
    "    short = calc_table(short)\n",
    "    [print(short[i]) for i in range(len(short))]\n",
    "    distance = short[len(short)-1][0]\n",
    "    \n",
    "print('{} 과 {} 의 최단거리는 {} 입니다.'.format(index[i[0]], index[i[1]], distance))"
   ]
  },
  {
   "cell_type": "code",
   "execution_count": null,
   "id": "defensive-distribution",
   "metadata": {},
   "outputs": [],
   "source": []
  }
 ],
 "metadata": {
  "kernelspec": {
   "display_name": "Python 3",
   "language": "python",
   "name": "python3"
  },
  "language_info": {
   "codemirror_mode": {
    "name": "ipython",
    "version": 3
   },
   "file_extension": ".py",
   "mimetype": "text/x-python",
   "name": "python",
   "nbconvert_exporter": "python",
   "pygments_lexer": "ipython3",
   "version": "3.8.5"
  }
 },
 "nbformat": 4,
 "nbformat_minor": 5
}
