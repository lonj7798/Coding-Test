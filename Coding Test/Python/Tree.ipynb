{
 "cells": [
  {
   "cell_type": "code",
   "execution_count": 13,
   "id": "technical-vegetable",
   "metadata": {},
   "outputs": [],
   "source": [
    "class Node():\n",
    "    def __init__(self, value):\n",
    "        self.value = value\n",
    "        self.left, self.right = None, None"
   ]
  },
  {
   "cell_type": "code",
   "execution_count": 14,
   "id": "independent-right",
   "metadata": {},
   "outputs": [],
   "source": [
    "class NodeMgmt():\n",
    "    def __init__(self, head):\n",
    "        self.head = head\n",
    "            \n",
    "    def insert(self, value):\n",
    "        self.current_node = self.head\n",
    "        while True:\n",
    "            if value < self.current_node.value:\n",
    "                if self.current_node.left != None:\n",
    "                    self.current_node = self.current_node.left\n",
    "                else:\n",
    "                    self.current_node.left = Node(value)\n",
    "                    break\n",
    "            else:\n",
    "                if self.current_node.right != None:\n",
    "                    self.current_node = self.current_node.right\n",
    "                else:\n",
    "                    self.current_node.right = Node(value)\n",
    "                    break"
   ]
  },
  {
   "cell_type": "code",
   "execution_count": 15,
   "id": "moved-junior",
   "metadata": {},
   "outputs": [],
   "source": [
    "head = Node(1)\n",
    "binary_tree = NodeMgmt(head)"
   ]
  },
  {
   "cell_type": "code",
   "execution_count": 16,
   "id": "organic-involvement",
   "metadata": {},
   "outputs": [],
   "source": [
    "binary_tree.insert(2)"
   ]
  },
  {
   "cell_type": "code",
   "execution_count": 18,
   "id": "structural-kruger",
   "metadata": {},
   "outputs": [],
   "source": [
    "class NodeMgmt():\n",
    "    def __init__(self, head):\n",
    "        self.head = Node(head)\n",
    "            \n",
    "    def insert(self, value):\n",
    "        self.current_node = self.head\n",
    "        while True:\n",
    "            if value < self.current_node.value:\n",
    "                if self.current_node.left != None:\n",
    "                    self.current_node = self.current_node.left\n",
    "                else:\n",
    "                    self.current_node.left = Node(value)\n",
    "                    break\n",
    "            else:\n",
    "                if self.current_node.right != None:\n",
    "                    self.current_node = self.current_node.right\n",
    "                else:\n",
    "                    self.current_node.right = Node(value)\n",
    "                    break\n",
    "    \n",
    "    def search(self, value):\n",
    "        self.current_node = self.head\n",
    "        while self.current_node:\n",
    "            if self.current_node.value == value:\n",
    "                return True\n",
    "            elif value < self.current_node.value:\n",
    "                self.current_node = self.current_node.left\n",
    "            else:\n",
    "                self.current_node = self.current_node.right\n",
    "                \n",
    "        return False"
   ]
  },
  {
   "cell_type": "code",
   "execution_count": 19,
   "id": "liquid-grant",
   "metadata": {},
   "outputs": [],
   "source": [
    "binary_tree = NodeMgmt(1)"
   ]
  },
  {
   "cell_type": "code",
   "execution_count": 20,
   "id": "structured-speed",
   "metadata": {},
   "outputs": [],
   "source": [
    "for i in range(-5, 10, 2):\n",
    "    binary_tree.insert(i)"
   ]
  },
  {
   "cell_type": "code",
   "execution_count": 24,
   "id": "reflected-diary",
   "metadata": {},
   "outputs": [
    {
     "name": "stdout",
     "output_type": "stream",
     "text": [
      "-5 True\n",
      "-4 False\n",
      "-3 True\n",
      "-2 False\n",
      "-1 True\n",
      "0 False\n",
      "1 True\n",
      "2 False\n",
      "3 True\n",
      "4 False\n",
      "5 True\n",
      "6 False\n",
      "7 True\n",
      "8 False\n",
      "9 True\n"
     ]
    }
   ],
   "source": [
    "for i in range(-5, 10):\n",
    "    print(i, binary_tree.search(i))"
   ]
  },
  {
   "cell_type": "code",
   "execution_count": null,
   "id": "adjusted-eugene",
   "metadata": {},
   "outputs": [],
   "source": [
    "binary_tree.search(-5)"
   ]
  }
 ],
 "metadata": {
  "kernelspec": {
   "display_name": "Python 3",
   "language": "python",
   "name": "python3"
  },
  "language_info": {
   "codemirror_mode": {
    "name": "ipython",
    "version": 3
   },
   "file_extension": ".py",
   "mimetype": "text/x-python",
   "name": "python",
   "nbconvert_exporter": "python",
   "pygments_lexer": "ipython3",
   "version": "3.8.5"
  }
 },
 "nbformat": 4,
 "nbformat_minor": 5
}
