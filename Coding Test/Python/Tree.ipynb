{
 "cells": [
  {
   "cell_type": "code",
   "execution_count": 1,
   "id": "technical-vegetable",
   "metadata": {},
   "outputs": [],
   "source": [
    "class Node():\n",
    "    def __init__(self, value):\n",
    "        self.value = value\n",
    "        self.left, self.right = None, None"
   ]
  },
  {
   "cell_type": "code",
   "execution_count": 2,
   "id": "independent-right",
   "metadata": {},
   "outputs": [],
   "source": [
    "class NodeMgmt():\n",
    "    def __init__(self, head):\n",
    "        self.head = head\n",
    "            \n",
    "    def insert(self, value):\n",
    "        self.current_node = self.head\n",
    "        while True:\n",
    "            if value < self.current_node.value:\n",
    "                if self.current_node.left != None:\n",
    "                    self.current_node = self.current_node.left\n",
    "                else:\n",
    "                    self.current_node.left = Node(value)\n",
    "                    break\n",
    "            else:\n",
    "                if self.current_node.right != None:\n",
    "                    self.current_node = self.current_node.right\n",
    "                else:\n",
    "                    self.current_node.right = Node(value)\n",
    "                    break"
   ]
  },
  {
   "cell_type": "code",
   "execution_count": 3,
   "id": "moved-junior",
   "metadata": {},
   "outputs": [],
   "source": [
    "head = Node(1)\n",
    "binary_tree = NodeMgmt(head)"
   ]
  },
  {
   "cell_type": "code",
   "execution_count": 4,
   "id": "organic-involvement",
   "metadata": {},
   "outputs": [],
   "source": [
    "binary_tree.insert(2)"
   ]
  },
  {
   "cell_type": "code",
   "execution_count": 5,
   "id": "structural-kruger",
   "metadata": {},
   "outputs": [],
   "source": [
    "class NodeMgmt():\n",
    "    def __init__(self, head):\n",
    "        self.head = Node(head)\n",
    "            \n",
    "    def insert(self, value):\n",
    "        self.current_node = self.head\n",
    "        while True:\n",
    "            if value < self.current_node.value:\n",
    "                if self.current_node.left != None:\n",
    "                    self.current_node = self.current_node.left\n",
    "                else:\n",
    "                    self.current_node.left = Node(value)\n",
    "                    break\n",
    "            else:\n",
    "                if self.current_node.right != None:\n",
    "                    self.current_node = self.current_node.right\n",
    "                else:\n",
    "                    self.current_node.right = Node(value)\n",
    "                    break\n",
    "    \n",
    "    def search(self, value):\n",
    "        self.current_node = self.head\n",
    "        while self.current_node:\n",
    "            if self.current_node.value == value:\n",
    "                return True\n",
    "            elif value < self.current_node.value:\n",
    "                self.current_node = self.current_node.left\n",
    "            else:\n",
    "                self.current_node = self.current_node.right\n",
    "                \n",
    "        return False"
   ]
  },
  {
   "cell_type": "code",
   "execution_count": 6,
   "id": "liquid-grant",
   "metadata": {},
   "outputs": [],
   "source": [
    "binary_tree = NodeMgmt(1)"
   ]
  },
  {
   "cell_type": "code",
   "execution_count": 7,
   "id": "structured-speed",
   "metadata": {},
   "outputs": [],
   "source": [
    "for i in range(-5, 10, 2):\n",
    "    binary_tree.insert(i)"
   ]
  },
  {
   "cell_type": "code",
   "execution_count": 8,
   "id": "reflected-diary",
   "metadata": {},
   "outputs": [
    {
     "name": "stdout",
     "output_type": "stream",
     "text": [
      "-5 True\n",
      "-4 False\n",
      "-3 True\n",
      "-2 False\n",
      "-1 True\n",
      "0 False\n",
      "1 True\n",
      "2 False\n",
      "3 True\n",
      "4 False\n",
      "5 True\n",
      "6 False\n",
      "7 True\n",
      "8 False\n",
      "9 True\n"
     ]
    }
   ],
   "source": [
    "for i in range(-5, 10):\n",
    "    print(i, binary_tree.search(i))"
   ]
  },
  {
   "cell_type": "code",
   "execution_count": 9,
   "id": "adjusted-eugene",
   "metadata": {},
   "outputs": [
    {
     "data": {
      "text/plain": [
       "True"
      ]
     },
     "execution_count": 9,
     "metadata": {},
     "output_type": "execute_result"
    }
   ],
   "source": [
    "binary_tree.search(-5)"
   ]
  },
  {
   "cell_type": "code",
   "execution_count": null,
   "id": "modular-rachel",
   "metadata": {},
   "outputs": [],
   "source": []
  },
  {
   "cell_type": "code",
   "execution_count": 40,
   "id": "dated-receptor",
   "metadata": {},
   "outputs": [],
   "source": [
    "class NodeMgmt():\n",
    "    def __init__(self, head):\n",
    "        self.head = Node(head)\n",
    "            \n",
    "    def insert(self, value):\n",
    "        self.current_node = self.head\n",
    "        while True:\n",
    "            if value < self.current_node.value:\n",
    "                if self.current_node.left != None:\n",
    "                    self.current_node = self.current_node.left\n",
    "                else:\n",
    "                    self.current_node.left = Node(value)\n",
    "                    break\n",
    "            else:\n",
    "                if self.current_node.right != None:\n",
    "                    self.current_node = self.current_node.right\n",
    "                else:\n",
    "                    self.current_node.right = Node(value)\n",
    "                    break\n",
    "    \n",
    "    def search(self, value):\n",
    "        self.current_node = self.head\n",
    "        while self.current_node:\n",
    "            if self.current_node.value == value:\n",
    "                return True\n",
    "            elif value < self.current_node.value:\n",
    "                self.current_node = self.current_node.left\n",
    "            else:\n",
    "                self.current_node = self.current_node.right\n",
    "                \n",
    "        return False\n",
    "    \n",
    "    def delete(self, value):\n",
    "        # find the node\n",
    "        searched = False\n",
    "        self.current_node = self.head\n",
    "        self.parent = self.head\n",
    "    \n",
    "        while self.current_node:\n",
    "            if self.current_node.value == value:\n",
    "                searched = True\n",
    "                break\n",
    "            elif value < self.current_node.value:\n",
    "                self.parent = self.current_node\n",
    "                self.current_node = self.current_node.left\n",
    "            else:\n",
    "                self.parent = self.current_node\n",
    "                self.current_node = self.current_node.right\n",
    "                \n",
    "            if searched == False:\n",
    "                return False\n",
    "        \n",
    "        # case 1: delete leaf\n",
    "        if (self.current_node.left == None) and (self.current_node.right == None):\n",
    "            if value < self.parent.value:\n",
    "                self.parent.left = None\n",
    "            else:\n",
    "                self.parent.right = None\n",
    "        \n",
    "        # case 2\n",
    "        elif (self.current_node.left != None) and (self.current_node.right == None):\n",
    "            if value < self.parent.value:\n",
    "                self.parent.left = self.current_node.left\n",
    "            else:\n",
    "                self.parent.right = self.current_node.left\n",
    "        elif (self.current_node.left == None) and (self.current_node.right != None):\n",
    "            if value < self.parnet.value:\n",
    "                 self.parent.left = self.current_node.right\n",
    "            else:\n",
    "                self.parent.right = self.current_node.right\n",
    "        \n",
    "        # case 3\n",
    "        elif (self.current_node.left != None) and (self.current_node.right != None):\n",
    "            \n",
    "            # case 3-1\n",
    "            if value < self.parent.value:\n",
    "                self.change_node = self.current_node.right\n",
    "                self.change_node_parent = self.current_node.right\n",
    "                \n",
    "                while self.change_node.left != None:\n",
    "                    self.change_node_parent = self.change_node\n",
    "                    self.change_node = self.change_node.left\n",
    "                    \n",
    "                if self.change_node.right != None:\n",
    "                    self.change_node_parent.left = self.change_node.right\n",
    "                else:\n",
    "                    self.change_node_parent.left = None\n",
    "                self.parent.left = self.change_node\n",
    "                self.change_node.right = self.current_node.right\n",
    "                self.change_node.left = self.change_node.left\n",
    "                \n",
    "            # case 3-2\n",
    "            else:\n",
    "                self.change_node = slef.current_node.right\n",
    "                self.changE_node_parent = self.current_node.right\n",
    "                \n",
    "                while self.change_node.left != None:\n",
    "                    self.change_node_parent = self.chagne_node\n",
    "                    self.change_node = self.change_node.left\n",
    "                    \n",
    "                if self.change_node.right != None:\n",
    "                    self.change_node_aprent.left = self.change_node.right\n",
    "                else:\n",
    "                    self.change_node_parent.left = Nopne\n",
    "                \n",
    "                self.parent.right = self.change_node\n",
    "                self.change_node.left = self.current_node.left\n",
    "                self.change_node.right = slef.current_node.right\n",
    "                \n",
    "        return True\n",
    "        "
   ]
  },
  {
   "cell_type": "code",
   "execution_count": 46,
   "id": "historical-utility",
   "metadata": {},
   "outputs": [],
   "source": [
    "import random\n",
    "\n",
    "rand_int = []\n",
    "for i in range(0, 100):\n",
    "    rand_int.append(random.randint(0, 999))\n",
    "\n",
    "binary_tree = NodeMgmt(random.randint(0,999))\n",
    "\n",
    "for num in rand_int:\n",
    "    binary_tree.insert(num)"
   ]
  },
  {
   "cell_type": "code",
   "execution_count": 48,
   "id": "suitable-german",
   "metadata": {},
   "outputs": [
    {
     "data": {
      "text/plain": [
       "[922, 119, 378, 465, 674, 407, 833, 43, 917, 886]"
      ]
     },
     "execution_count": 48,
     "metadata": {},
     "output_type": "execute_result"
    }
   ],
   "source": [
    "del_num = rand_int[0:10]\n",
    "del_num"
   ]
  },
  {
   "cell_type": "code",
   "execution_count": 49,
   "id": "dynamic-oxford",
   "metadata": {},
   "outputs": [
    {
     "data": {
      "text/plain": [
       "False"
      ]
     },
     "execution_count": 49,
     "metadata": {},
     "output_type": "execute_result"
    }
   ],
   "source": [
    "binary_tree.delete(922)"
   ]
  },
  {
   "cell_type": "code",
   "execution_count": 42,
   "id": "cosmetic-feedback",
   "metadata": {},
   "outputs": [],
   "source": [
    "\n",
    "\n",
    "for num in del_num:\n",
    "    binary_tree.delete(num)"
   ]
  },
  {
   "cell_type": "code",
   "execution_count": 43,
   "id": "bound-mixture",
   "metadata": {},
   "outputs": [
    {
     "data": {
      "text/plain": [
       "[263, 793, 354, 845, 175, 609, 240, 335, 515, 853]"
      ]
     },
     "execution_count": 43,
     "metadata": {},
     "output_type": "execute_result"
    }
   ],
   "source": [
    "del_num"
   ]
  },
  {
   "cell_type": "code",
   "execution_count": 44,
   "id": "aboriginal-windsor",
   "metadata": {},
   "outputs": [
    {
     "data": {
      "text/plain": [
       "True"
      ]
     },
     "execution_count": 44,
     "metadata": {},
     "output_type": "execute_result"
    }
   ],
   "source": [
    "binary_tree.search(263)"
   ]
  },
  {
   "cell_type": "code",
   "execution_count": 45,
   "id": "limited-shepherd",
   "metadata": {},
   "outputs": [
    {
     "data": {
      "text/plain": [
       "False"
      ]
     },
     "execution_count": 45,
     "metadata": {},
     "output_type": "execute_result"
    }
   ],
   "source": []
  },
  {
   "cell_type": "code",
   "execution_count": null,
   "id": "portable-automation",
   "metadata": {},
   "outputs": [],
   "source": []
  }
 ],
 "metadata": {
  "kernelspec": {
   "display_name": "Python 3",
   "language": "python",
   "name": "python3"
  },
  "language_info": {
   "codemirror_mode": {
    "name": "ipython",
    "version": 3
   },
   "file_extension": ".py",
   "mimetype": "text/x-python",
   "name": "python",
   "nbconvert_exporter": "python",
   "pygments_lexer": "ipython3",
   "version": "3.8.5"
  }
 },
 "nbformat": 4,
 "nbformat_minor": 5
}
