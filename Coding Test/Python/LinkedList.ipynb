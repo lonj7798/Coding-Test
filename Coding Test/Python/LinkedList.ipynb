{
 "cells": [
  {
   "cell_type": "markdown",
   "id": "robust-treasurer",
   "metadata": {},
   "source": [
    "### Node"
   ]
  },
  {
   "cell_type": "code",
   "execution_count": 87,
   "id": "returning-ready",
   "metadata": {},
   "outputs": [],
   "source": [
    "class Node():\n",
    "    def __init__(self, data):\n",
    "        self.data = data\n",
    "        self.next = None"
   ]
  },
  {
   "cell_type": "markdown",
   "id": "vocal-visibility",
   "metadata": {},
   "source": [
    "### Interface:\n",
    "- **head**: point the front\n",
    "- **before**: previous position of current position\n",
    "- **tail**: point the last\n",
    "- **num_of_data**: number of data\n",
    "- **Method**\n",
    "    - **Constructor**: initialize head, before, current, tail, num_of_data\n",
    "    - **.append()**: add the node at the last (insert)\n",
    "    - **.first()**: search the 1st node\n",
    "    - **.next()**: search the next node\n",
    "    - **.delete()**: delete the current node"
   ]
  },
  {
   "cell_type": "code",
   "execution_count": 82,
   "id": "intellectual-springer",
   "metadata": {},
   "outputs": [],
   "source": [
    "class Node():\n",
    "    def __init__(self, data):\n",
    "        self.data = data\n",
    "        self.next = None\n",
    "        \n",
    "class LinkedList():\n",
    "    def __init__(self):\n",
    "        self.head = None\n",
    "        self.before = None\n",
    "        self.tail = None\n",
    "        self.num_of_data = 0\n",
    "        \n",
    "    def append(self, data):\n",
    "        new_node = Node(data)\n",
    "        \n",
    "        if self.head == None:\n",
    "            self.head = new_node\n",
    "            self.tail = new_node\n",
    "            self.before = new_node\n",
    "        else:\n",
    "            self.before = self.tail\n",
    "            self.tail.next = new_node\n",
    "            self.tail = new_node\n",
    "            \n",
    "        self.num_of_data += 1\n",
    "        \n",
    "    def pop(self):\n",
    "        if self.num_of_data == 0:\n",
    "            return None\n",
    "        else:\n",
    "            pop_data = self.tail.data\n",
    "            self.tail = self.before\n",
    "            return pop_data\n",
    "        \n",
    "        self.num_of_data -= 1\n",
    "        \n",
    "    def first(self):\n",
    "        return self.head\n",
    "    \n",
    "    def tail(self):\n",
    "        return self.tail\n",
    "    \n",
    "    def print_all(self):\n",
    "        scanner = self.head\n",
    "        while scanner.next != None:\n",
    "            print(scanner.data)\n",
    "            scanner = scanner.next\n",
    "        print(self.tail.data)"
   ]
  },
  {
   "cell_type": "code",
   "execution_count": 86,
   "id": "bigger-combine",
   "metadata": {},
   "outputs": [
    {
     "name": "stdout",
     "output_type": "stream",
     "text": [
      "0\n",
      "1\n",
      "2\n",
      "3\n",
      "4\n",
      "5\n",
      "6\n",
      "7\n",
      "8\n",
      "9\n",
      "10\n",
      "11\n",
      "12\n",
      "13\n",
      "14\n"
     ]
    }
   ],
   "source": [
    "a = LinkedList()\n",
    "\n",
    "for i in range(0,15):\n",
    "    a.append(i)\n",
    "    \n",
    "a.print_all()"
   ]
  },
  {
   "cell_type": "code",
   "execution_count": null,
   "id": "terminal-framework",
   "metadata": {},
   "outputs": [],
   "source": []
  }
 ],
 "metadata": {
  "kernelspec": {
   "display_name": "Python 3",
   "language": "python",
   "name": "python3"
  },
  "language_info": {
   "codemirror_mode": {
    "name": "ipython",
    "version": 3
   },
   "file_extension": ".py",
   "mimetype": "text/x-python",
   "name": "python",
   "nbconvert_exporter": "python",
   "pygments_lexer": "ipython3",
   "version": "3.8.5"
  }
 },
 "nbformat": 4,
 "nbformat_minor": 5
}
