{
 "cells": [
  {
   "cell_type": "code",
   "execution_count": 6,
   "id": "inside-telephone",
   "metadata": {},
   "outputs": [],
   "source": [
    "nums = [9,6,4,2,3,5,7,0,1, 8]"
   ]
  },
  {
   "cell_type": "code",
   "execution_count": 7,
   "id": "upper-crash",
   "metadata": {},
   "outputs": [],
   "source": [
    "copy_list = nums.copy()"
   ]
  },
  {
   "cell_type": "code",
   "execution_count": 9,
   "id": "focal-message",
   "metadata": {},
   "outputs": [
    {
     "name": "stdout",
     "output_type": "stream",
     "text": [
      "10\n"
     ]
    }
   ],
   "source": [
    "for i in range(0, len(nums)):\n",
    "    if i in nums:\n",
    "        pass\n",
    "    else:\n",
    "        print(i)\n",
    "print(len(nums))"
   ]
  },
  {
   "cell_type": "code",
   "execution_count": null,
   "id": "quiet-injection",
   "metadata": {},
   "outputs": [],
   "source": []
  }
 ],
 "metadata": {
  "kernelspec": {
   "display_name": "Python 3",
   "language": "python",
   "name": "python3"
  },
  "language_info": {
   "codemirror_mode": {
    "name": "ipython",
    "version": 3
   },
   "file_extension": ".py",
   "mimetype": "text/x-python",
   "name": "python",
   "nbconvert_exporter": "python",
   "pygments_lexer": "ipython3",
   "version": "3.8.5"
  }
 },
 "nbformat": 4,
 "nbformat_minor": 5
}
