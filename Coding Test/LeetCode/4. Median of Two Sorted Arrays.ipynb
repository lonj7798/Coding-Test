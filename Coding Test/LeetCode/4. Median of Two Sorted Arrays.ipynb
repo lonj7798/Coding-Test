{
 "cells": [
  {
   "cell_type": "code",
   "execution_count": 76,
   "id": "solved-arrest",
   "metadata": {},
   "outputs": [],
   "source": [
    "nums1 = [0,0,0,0,0]\n",
    "nums2 = [-1,0,0,0,0,0,1]"
   ]
  },
  {
   "cell_type": "code",
   "execution_count": 77,
   "id": "billion-civilian",
   "metadata": {},
   "outputs": [
    {
     "name": "stdout",
     "output_type": "stream",
     "text": [
      "[-1, 0, 0, 0, 0, 0, 0, 0, 0, 0, 0, 1]\n",
      "0.0\n"
     ]
    }
   ],
   "source": [
    "nums1.extend(nums2)\n",
    "\n",
    "nums = sorted(nums1)\n",
    "\n",
    "print(nums)\n",
    "\n",
    "if len(nums)%2:\n",
    "    index = int(len(nums)/2)\n",
    "    \n",
    "    print( (nums[index]))\n",
    "    \n",
    "    \n",
    "else:\n",
    "    index1 = int(len(nums)/2)-1\n",
    "    index2 = int(len(nums)/2)\n",
    "    \n",
    "    print( (nums[index1]+nums[index2])/2)\n",
    "\n",
    "\n",
    "\n"
   ]
  },
  {
   "cell_type": "code",
   "execution_count": null,
   "id": "aware-rwanda",
   "metadata": {},
   "outputs": [],
   "source": [
    "\n"
   ]
  }
 ],
 "metadata": {
  "kernelspec": {
   "display_name": "Python 3",
   "language": "python",
   "name": "python3"
  },
  "language_info": {
   "codemirror_mode": {
    "name": "ipython",
    "version": 3
   },
   "file_extension": ".py",
   "mimetype": "text/x-python",
   "name": "python",
   "nbconvert_exporter": "python",
   "pygments_lexer": "ipython3",
   "version": "3.8.5"
  }
 },
 "nbformat": 4,
 "nbformat_minor": 5
}
