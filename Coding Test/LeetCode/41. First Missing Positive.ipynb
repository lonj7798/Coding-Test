{
 "cells": [
  {
   "cell_type": "code",
   "execution_count": 65,
   "id": "historic-custom",
   "metadata": {},
   "outputs": [],
   "source": [
    "nums = [-5]"
   ]
  },
  {
   "cell_type": "code",
   "execution_count": 66,
   "id": "varied-gnome",
   "metadata": {},
   "outputs": [
    {
     "name": "stdout",
     "output_type": "stream",
     "text": [
      "1\n"
     ]
    }
   ],
   "source": [
    "nums = list(set(nums))\n",
    "nums.sort()\n",
    "\n",
    "if nums[-1] < 0:\n",
    "    print(1)\n",
    "else:\n",
    "    index = 0\n",
    "    while(nums[index] < 0):\n",
    "        index+=1\n",
    "        \n",
    "    del nums[0:index]\n",
    "    \n",
    "    if nums[0] != 0:\n",
    "        nums.insert(0,0)\n",
    "    print('여기',nums)\n",
    "    \n",
    "    for i,num in enumerate(nums):\n",
    "        if i != num:\n",
    "            print(i)\n",
    "    \n",
    "#    print(len(nums))"
   ]
  },
  {
   "cell_type": "code",
   "execution_count": 27,
   "id": "loose-comparative",
   "metadata": {},
   "outputs": [
    {
     "data": {
      "text/plain": [
       "[1, 2]"
      ]
     },
     "execution_count": 27,
     "metadata": {},
     "output_type": "execute_result"
    }
   ],
   "source": [
    "print (len(nums)+1)"
   ]
  },
  {
   "cell_type": "code",
   "execution_count": 47,
   "id": "lined-slovenia",
   "metadata": {},
   "outputs": [
    {
     "data": {
      "text/plain": [
       "{-2, -1, 0, 1, 2, 3, 4, 5}"
      ]
     },
     "execution_count": 47,
     "metadata": {},
     "output_type": "execute_result"
    }
   ],
   "source": [
    "set(nums)"
   ]
  },
  {
   "cell_type": "code",
   "execution_count": null,
   "id": "racial-buffalo",
   "metadata": {},
   "outputs": [],
   "source": []
  }
 ],
 "metadata": {
  "kernelspec": {
   "display_name": "Python 3",
   "language": "python",
   "name": "python3"
  },
  "language_info": {
   "codemirror_mode": {
    "name": "ipython",
    "version": 3
   },
   "file_extension": ".py",
   "mimetype": "text/x-python",
   "name": "python",
   "nbconvert_exporter": "python",
   "pygments_lexer": "ipython3",
   "version": "3.8.5"
  }
 },
 "nbformat": 4,
 "nbformat_minor": 5
}
