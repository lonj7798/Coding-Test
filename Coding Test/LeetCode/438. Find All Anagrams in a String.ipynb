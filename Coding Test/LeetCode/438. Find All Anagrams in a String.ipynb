{
 "cells": [
  {
   "cell_type": "code",
   "execution_count": 1,
   "id": "nervous-equilibrium",
   "metadata": {},
   "outputs": [],
   "source": [
    "s = \"cbaebabacd\"\n",
    "p = \"abc\""
   ]
  },
  {
   "cell_type": "code",
   "execution_count": null,
   "id": "russian-snake",
   "metadata": {},
   "outputs": [],
   "source": [
    "stack = p.copy()\n",
    "\n",
    "for i,ch in enumerate(s[2:]):\n",
    "    index0 = i-2\n",
    "    index1 = i-1\n",
    "    index2 = i\n",
    "    \n",
    "    while (len(stack)==0) | (stack)\n",
    "    if s[i-2] in stack:\n",
    "        stack.remove(s[i-2])\n",
    "        if s[i] in stack:\n",
    "            stack.remove(s[i-2])\n",
    "            if s[i] in stack\n",
    "    "
   ]
  },
  {
   "cell_type": "code",
   "execution_count": 6,
   "id": "compact-staff",
   "metadata": {},
   "outputs": [],
   "source": [
    "stack = list(p).copy()"
   ]
  },
  {
   "cell_type": "code",
   "execution_count": 10,
   "id": "higher-captain",
   "metadata": {},
   "outputs": [
    {
     "ename": "ValueError",
     "evalue": "list.remove(x): x not in list",
     "output_type": "error",
     "traceback": [
      "\u001b[1;31m---------------------------------------------------------------------------\u001b[0m",
      "\u001b[1;31mValueError\u001b[0m                                Traceback (most recent call last)",
      "\u001b[1;32m<ipython-input-10-4292617584f7>\u001b[0m in \u001b[0;36m<module>\u001b[1;34m\u001b[0m\n\u001b[1;32m----> 1\u001b[1;33m \u001b[0mstack\u001b[0m\u001b[1;33m.\u001b[0m\u001b[0mremove\u001b[0m\u001b[1;33m(\u001b[0m\u001b[1;34m'k'\u001b[0m\u001b[1;33m)\u001b[0m\u001b[1;33m\u001b[0m\u001b[1;33m\u001b[0m\u001b[0m\n\u001b[0m",
      "\u001b[1;31mValueError\u001b[0m: list.remove(x): x not in list"
     ]
    }
   ],
   "source": [
    "\n",
    "stack.remove('k')"
   ]
  },
  {
   "cell_type": "code",
   "execution_count": null,
   "id": "detected-freeware",
   "metadata": {},
   "outputs": [],
   "source": []
  }
 ],
 "metadata": {
  "kernelspec": {
   "display_name": "Python 3",
   "language": "python",
   "name": "python3"
  },
  "language_info": {
   "codemirror_mode": {
    "name": "ipython",
    "version": 3
   },
   "file_extension": ".py",
   "mimetype": "text/x-python",
   "name": "python",
   "nbconvert_exporter": "python",
   "pygments_lexer": "ipython3",
   "version": "3.8.5"
  }
 },
 "nbformat": 4,
 "nbformat_minor": 5
}
