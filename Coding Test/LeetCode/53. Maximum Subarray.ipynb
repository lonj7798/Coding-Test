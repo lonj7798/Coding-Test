{
 "cells": [
  {
   "cell_type": "code",
   "execution_count": 4,
   "id": "patient-establishment",
   "metadata": {},
   "outputs": [],
   "source": [
    "nums = [-2,1,-3,4,-1,2,1,-5,4]"
   ]
  },
  {
   "cell_type": "code",
   "execution_count": 5,
   "id": "fatty-trouble",
   "metadata": {},
   "outputs": [
    {
     "name": "stdout",
     "output_type": "stream",
     "text": [
      "6\n"
     ]
    }
   ],
   "source": [
    "if not nums:\n",
    "    print(0)\n",
    "\n",
    "temp_sum = nums[0]\n",
    "sum_max = nums[0]\n",
    "for num in nums[1:]:\n",
    "    temp_sum = max(num, temp_sum + num)\n",
    "    sum_max = max(sum_max, temp_sum)\n",
    "\n",
    "print(sum_max)"
   ]
  },
  {
   "cell_type": "code",
   "execution_count": null,
   "id": "formal-greenhouse",
   "metadata": {},
   "outputs": [],
   "source": []
  }
 ],
 "metadata": {
  "kernelspec": {
   "display_name": "Python 3",
   "language": "python",
   "name": "python3"
  },
  "language_info": {
   "codemirror_mode": {
    "name": "ipython",
    "version": 3
   },
   "file_extension": ".py",
   "mimetype": "text/x-python",
   "name": "python",
   "nbconvert_exporter": "python",
   "pygments_lexer": "ipython3",
   "version": "3.8.5"
  }
 },
 "nbformat": 4,
 "nbformat_minor": 5
}
