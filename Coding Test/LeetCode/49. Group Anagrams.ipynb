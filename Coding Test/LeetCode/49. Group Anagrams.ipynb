{
 "cells": [
  {
   "cell_type": "code",
   "execution_count": 1,
   "id": "supported-morgan",
   "metadata": {},
   "outputs": [],
   "source": [
    "strs = [\"eat\",\"tea\",\"tan\",\"ate\",\"nat\",\"bat\"]"
   ]
  },
  {
   "cell_type": "code",
   "execution_count": 52,
   "id": "changing-snowboard",
   "metadata": {},
   "outputs": [
    {
     "name": "stdout",
     "output_type": "stream",
     "text": [
      "[['aet', 'eat', 'tea', 'ate'], ['ant', 'tan', 'nat'], ['abt', 'bat']]\n",
      "[['eat', 'tea', 'ate'], ['tan', 'nat'], ['bat']]\n"
     ]
    }
   ],
   "source": [
    "new_list = [[''.join(sorted(strs[0])), strs[0]]]\n",
    "unique = 1\n",
    "\n",
    "\n",
    "for i in range(1, len(strs)):\n",
    "    check = 0\n",
    "    temp = ''.join(sorted(strs[i]))\n",
    "    \n",
    "    for j in range(0, unique):\n",
    "        if new_list[j][0] == temp:\n",
    "            new_list[j].append(strs[i])\n",
    "            check = 1\n",
    "            continue\n",
    "    \n",
    "    if check == 0:\n",
    "        new_list.append([temp])\n",
    "        new_list[unique].append(strs[i])\n",
    "        unique += 1\n",
    "\n",
    "print(new_list)\n",
    "\n",
    "for i in range(0, unique):\n",
    "    del new_list[i][0]\n",
    "    \n",
    "print(new_list)"
   ]
  },
  {
   "cell_type": "code",
   "execution_count": null,
   "id": "gentle-journey",
   "metadata": {},
   "outputs": [],
   "source": [
    "new_dic = {''.join(sorted(strs[0])):[strs[0]]}\n",
    "\n",
    "for i in range(1, len(strs)):\n",
    "    check = 0\n",
    "    \n",
    "    for j in range(0, unique):\n",
    "        if new_list[j][0] == ''.join(sorted(strs[i])):\n",
    "            new_list[j].append(strs[i])\n",
    "            check = 1\n",
    "            continue\n",
    "    \n",
    "    if check == 0:\n",
    "        new_list.append([''.join(sorted(strs[i]))])\n",
    "        new_list[unique].append(strs[i])\n",
    "        unique += 1\n",
    "\n",
    "print(new_list)\n",
    "\n",
    "for i in range(0, unique):\n",
    "    del new_list[i][0]\n",
    "    \n",
    "print(new_list)\n",
    "\n",
    "# return new_list"
   ]
  },
  {
   "cell_type": "code",
   "execution_count": null,
   "id": "separate-synthesis",
   "metadata": {},
   "outputs": [],
   "source": []
  }
 ],
 "metadata": {
  "kernelspec": {
   "display_name": "Python 3",
   "language": "python",
   "name": "python3"
  },
  "language_info": {
   "codemirror_mode": {
    "name": "ipython",
    "version": 3
   },
   "file_extension": ".py",
   "mimetype": "text/x-python",
   "name": "python",
   "nbconvert_exporter": "python",
   "pygments_lexer": "ipython3",
   "version": "3.8.5"
  }
 },
 "nbformat": 4,
 "nbformat_minor": 5
}
