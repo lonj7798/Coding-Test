{
 "cells": [
  {
   "cell_type": "markdown",
   "id": "congressional-event",
   "metadata": {},
   "source": [
    "A -> 1\\\n",
    "B -> 2\\\n",
    "C -> 3\\\n",
    "...\\\n",
    "Z -> 26\\\n",
    "AA -> 27\\\n",
    "AB -> 28 \\\n",
    "..."
   ]
  },
  {
   "cell_type": "code",
   "execution_count": null,
   "id": "rotary-teaching",
   "metadata": {},
   "outputs": [],
   "source": [
    "class Solution:\n",
    "    def titleToNumber(self, columnTitle: str) -> int:\n",
    "        dic = {'A':1, 'B':2, 'C':3, 'D':4, 'E':5, \"F\":6, \"G\":7,\n",
    "               'H':8, 'I':9, 'J':10, 'K':11, 'L':12, 'M':13, 'N':14,\n",
    "               'O':15, 'P':16, 'Q':17, 'R':18, 'S':19, 'T':20, 'U':21,\n",
    "               'V':22, 'W':23, 'X':24, 'Y':25, 'Z':26}\n",
    "\n",
    "        num = 0\n",
    "        position = 1\n",
    "        for alphabet in columnTitle[::-1]:\n",
    "            temp = dic[alphabet] * position\n",
    "            num += temp\n",
    "            position *= 26\n",
    "        \n",
    "        return num"
   ]
  }
 ],
 "metadata": {
  "kernelspec": {
   "display_name": "Python 3",
   "language": "python",
   "name": "python3"
  },
  "language_info": {
   "codemirror_mode": {
    "name": "ipython",
    "version": 3
   },
   "file_extension": ".py",
   "mimetype": "text/x-python",
   "name": "python",
   "nbconvert_exporter": "python",
   "pygments_lexer": "ipython3",
   "version": "3.8.5"
  }
 },
 "nbformat": 4,
 "nbformat_minor": 5
}
