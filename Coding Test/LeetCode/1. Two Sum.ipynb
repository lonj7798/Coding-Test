{
 "cells": [
  {
   "cell_type": "code",
   "execution_count": 56,
   "id": "pending-compression",
   "metadata": {},
   "outputs": [],
   "source": [
    "nums = [3,3]\n",
    "target = 6"
   ]
  },
  {
   "cell_type": "code",
   "execution_count": 55,
   "id": "clinical-fifteen",
   "metadata": {},
   "outputs": [
    {
     "name": "stdout",
     "output_type": "stream",
     "text": [
      "[0, 1]\n"
     ]
    }
   ],
   "source": [
    "for i, num in enumerate(nums):\n",
    "    temp = target - num\n",
    "    \n",
    "    temp_list = nums.copy()\n",
    "    del temp_list[0:i+1]\n",
    "    \n",
    "    if temp in temp_list:  \n",
    "        print([i, nums.index(temp, i+1, len(nums))])"
   ]
  },
  {
   "cell_type": "code",
   "execution_count": null,
   "id": "dental-recipe",
   "metadata": {},
   "outputs": [],
   "source": [
    "class Solution:\n",
    "    def twoSum(self, nums: List[int], target: int) -> List[int]:\n",
    "        for i, num in enumerate(nums):\n",
    "            temp = target - num\n",
    "\n",
    "            temp_list = nums.copy()\n",
    "            del temp_list[0:i+1]\n",
    "\n",
    "            if temp in temp_list:  \n",
    "                # print([i, nums.index(temp)])\n",
    "                return [i, nums.index(temp, i+1, len(nums))]"
   ]
  },
  {
   "cell_type": "markdown",
   "id": "unnecessary-windows",
   "metadata": {},
   "source": [
    "--------------------------------"
   ]
  },
  {
   "cell_type": "code",
   "execution_count": 57,
   "id": "adjusted-vietnam",
   "metadata": {},
   "outputs": [
    {
     "name": "stdout",
     "output_type": "stream",
     "text": [
      "[0, 1]\n"
     ]
    }
   ],
   "source": [
    "for i, num in enumerate(nums):\n",
    "    temp = target - num\n",
    "    \n",
    "    try:\n",
    "        print([i, nums.index(temp, i+1, len(nums))])\n",
    "    except:\n",
    "        pass"
   ]
  },
  {
   "cell_type": "code",
   "execution_count": null,
   "id": "racial-mistake",
   "metadata": {},
   "outputs": [],
   "source": []
  }
 ],
 "metadata": {
  "kernelspec": {
   "display_name": "Python 3",
   "language": "python",
   "name": "python3"
  },
  "language_info": {
   "codemirror_mode": {
    "name": "ipython",
    "version": 3
   },
   "file_extension": ".py",
   "mimetype": "text/x-python",
   "name": "python",
   "nbconvert_exporter": "python",
   "pygments_lexer": "ipython3",
   "version": "3.8.5"
  }
 },
 "nbformat": 4,
 "nbformat_minor": 5
}
