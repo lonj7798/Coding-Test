{
 "cells": [
  {
   "cell_type": "code",
   "execution_count": 26,
   "id": "negative-watch",
   "metadata": {
    "scrolled": true
   },
   "outputs": [],
   "source": [
    "nums = [4,3,2,7,8,2,3,1]"
   ]
  },
  {
   "cell_type": "code",
   "execution_count": 34,
   "id": "collaborative-animal",
   "metadata": {},
   "outputs": [
    {
     "name": "stdout",
     "output_type": "stream",
     "text": [
      "-7\n",
      "-2\n",
      "-3\n",
      "-3\n",
      "-1\n",
      "-3\n",
      "-2\n",
      "-4\n",
      "[5, 6]\n"
     ]
    }
   ],
   "source": [
    "for num in nums:\n",
    "    index = abs(num) - 1\n",
    "    nums[index] = -abs(nums[index])\n",
    "    # print(nums[index])\n",
    "\n",
    "print([i + 1 for i, num in enumerate(nums) if num > 0])"
   ]
  },
  {
   "cell_type": "code",
   "execution_count": null,
   "id": "bearing-america",
   "metadata": {},
   "outputs": [],
   "source": []
  }
 ],
 "metadata": {
  "kernelspec": {
   "display_name": "Python 3",
   "language": "python",
   "name": "python3"
  },
  "language_info": {
   "codemirror_mode": {
    "name": "ipython",
    "version": 3
   },
   "file_extension": ".py",
   "mimetype": "text/x-python",
   "name": "python",
   "nbconvert_exporter": "python",
   "pygments_lexer": "ipython3",
   "version": "3.8.5"
  }
 },
 "nbformat": 4,
 "nbformat_minor": 5
}
