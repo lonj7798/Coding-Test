{
 "cells": [
  {
   "cell_type": "code",
   "execution_count": 101,
   "id": "appropriate-champion",
   "metadata": {},
   "outputs": [],
   "source": [
    "nums = [0,1,0,3,12]"
   ]
  },
  {
   "cell_type": "code",
   "execution_count": 102,
   "id": "decimal-oracle",
   "metadata": {},
   "outputs": [],
   "source": [
    "count = []\n",
    "for i,num in enumerate(nums):\n",
    "    if num == 0:\n",
    "        count.append(i)\n",
    "        \n",
    "temp = 0\n",
    "for i in count:\n",
    "    index = i-temp\n",
    "    del nums[index]\n",
    "    temp+=1\n",
    "    \n",
    "nums.extend([0]*len(count))"
   ]
  },
  {
   "cell_type": "code",
   "execution_count": 103,
   "id": "after-greek",
   "metadata": {},
   "outputs": [
    {
     "data": {
      "text/plain": [
       "[1, 3, 12, 0, 0]"
      ]
     },
     "execution_count": 103,
     "metadata": {},
     "output_type": "execute_result"
    }
   ],
   "source": [
    "nums"
   ]
  },
  {
   "cell_type": "code",
   "execution_count": null,
   "id": "cognitive-algebra",
   "metadata": {},
   "outputs": [],
   "source": []
  }
 ],
 "metadata": {
  "kernelspec": {
   "display_name": "Python 3",
   "language": "python",
   "name": "python3"
  },
  "language_info": {
   "codemirror_mode": {
    "name": "ipython",
    "version": 3
   },
   "file_extension": ".py",
   "mimetype": "text/x-python",
   "name": "python",
   "nbconvert_exporter": "python",
   "pygments_lexer": "ipython3",
   "version": "3.8.5"
  }
 },
 "nbformat": 4,
 "nbformat_minor": 5
}
