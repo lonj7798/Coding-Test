{
 "cells": [
  {
   "cell_type": "code",
   "execution_count": 41,
   "id": "standard-consumption",
   "metadata": {},
   "outputs": [],
   "source": [
    "T = [73, 74, 75, 71, 69, 72, 76, 73]"
   ]
  },
  {
   "cell_type": "code",
   "execution_count": 49,
   "id": "higher-butterfly",
   "metadata": {
    "scrolled": false
   },
   "outputs": [
    {
     "name": "stdout",
     "output_type": "stream",
     "text": [
      "0\n",
      "1\n",
      "2\n",
      "3\n",
      "4\n",
      "5\n",
      "6\n",
      "7\n"
     ]
    }
   ],
   "source": [
    "forecast = []\n",
    "\n",
    "for i, day in enumerate(T):\n",
    "    check = False\n",
    "    for j, next_day in enumerate(T[i:]):\n",
    "        if next_day > day:\n",
    "            forecast.append(j)\n",
    "            #print(forecast)\n",
    "            check = True\n",
    "            break\n",
    "    if not check:\n",
    "        forecast.append(0)  \n",
    "       # print(forecast)\n",
    "        "
   ]
  },
  {
   "cell_type": "code",
   "execution_count": 36,
   "id": "superior-astrology",
   "metadata": {},
   "outputs": [
    {
     "data": {
      "text/plain": [
       "[1, 1, 4, 2, 1, 1, 0, 0]"
      ]
     },
     "execution_count": 36,
     "metadata": {},
     "output_type": "execute_result"
    }
   ],
   "source": [
    "forecast"
   ]
  },
  {
   "cell_type": "code",
   "execution_count": 58,
   "id": "compound-vietnamese",
   "metadata": {
    "scrolled": false
   },
   "outputs": [
    {
     "name": "stdout",
     "output_type": "stream",
     "text": [
      "0\n",
      "1\n",
      "before pop [0]\n",
      "after pop []\n",
      "[1, 0, 0, 0, 0, 0, 0, 0]\n",
      "2\n",
      "before pop [1]\n",
      "after pop []\n",
      "[1, 1, 0, 0, 0, 0, 0, 0]\n",
      "3\n",
      "4\n",
      "5\n",
      "before pop [2, 3, 4]\n",
      "after pop [2, 3]\n",
      "[1, 1, 0, 0, 1, 0, 0, 0]\n",
      "before pop [2, 3]\n",
      "after pop [2]\n",
      "[1, 1, 0, 2, 1, 0, 0, 0]\n",
      "6\n",
      "before pop [2, 5]\n",
      "after pop [2]\n",
      "[1, 1, 0, 2, 1, 1, 0, 0]\n",
      "before pop [2]\n",
      "after pop []\n",
      "[1, 1, 4, 2, 1, 1, 0, 0]\n",
      "7\n",
      "[1, 1, 4, 2, 1, 1, 0, 0]\n"
     ]
    }
   ],
   "source": [
    "T = [73, 74, 75, 71, 69, 72, 76, 73]\n",
    "\n",
    "ans = [0] * len(T)\n",
    "stack = []\n",
    "for i, t in enumerate(T):\n",
    "    print(i)\n",
    "    while stack and T[stack[-1]] < t:\n",
    "        print('before pop', stack)\n",
    "        cur = stack.pop()\n",
    "        ans[cur] = i - cur\n",
    "        print('after pop', stack)\n",
    "        print(ans)\n",
    "    stack.append(i)\n",
    "\n",
    "print(ans)"
   ]
  },
  {
   "cell_type": "code",
   "execution_count": null,
   "id": "distinguished-absolute",
   "metadata": {},
   "outputs": [],
   "source": []
  }
 ],
 "metadata": {
  "kernelspec": {
   "display_name": "Python 3",
   "language": "python",
   "name": "python3"
  },
  "language_info": {
   "codemirror_mode": {
    "name": "ipython",
    "version": 3
   },
   "file_extension": ".py",
   "mimetype": "text/x-python",
   "name": "python",
   "nbconvert_exporter": "python",
   "pygments_lexer": "ipython3",
   "version": "3.8.5"
  }
 },
 "nbformat": 4,
 "nbformat_minor": 5
}
