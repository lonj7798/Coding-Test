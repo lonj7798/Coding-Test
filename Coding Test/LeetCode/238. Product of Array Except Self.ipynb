{
 "cells": [
  {
   "cell_type": "code",
   "execution_count": 42,
   "id": "defined-reducing",
   "metadata": {},
   "outputs": [],
   "source": [
    "nums = [-1,1,0,-3,3, 0, 1, 2]"
   ]
  },
  {
   "cell_type": "code",
   "execution_count": 48,
   "id": "informed-routine",
   "metadata": {},
   "outputs": [],
   "source": [
    "zero_num = list(filter(lambda x: nums[x] == 0, range(len(nums))))"
   ]
  },
  {
   "cell_type": "code",
   "execution_count": 49,
   "id": "working-humanitarian",
   "metadata": {},
   "outputs": [
    {
     "data": {
      "text/plain": [
       "[2, 5]"
      ]
     },
     "execution_count": 49,
     "metadata": {},
     "output_type": "execute_result"
    }
   ],
   "source": [
    "res_list"
   ]
  },
  {
   "cell_type": "code",
   "execution_count": 41,
   "id": "plain-mixer",
   "metadata": {},
   "outputs": [
    {
     "name": "stdout",
     "output_type": "stream",
     "text": [
      "[0, 0, 0, 0, 0, 0, 0, 0]\n"
     ]
    }
   ],
   "source": [
    "# if there is 0\n",
    "if 0 in nums:\n",
    "    anw = [0] * len(nums)\n",
    "    zero_num = list(filter(lambda x: nums[x] == 0, range(len(nums))))\n",
    "    \n",
    "    # if list has more than 2 zeros, all values are zero\n",
    "    if len(zero_num) > 1:\n",
    "        return anw\n",
    "    \n",
    "    else:\n",
    "        del nums[zero_num[0]]\n",
    "        temp = 1\n",
    "        for num in nums:\n",
    "            tmemp *= num\n",
    "        anw[zero_num[0]] = temp\n",
    "        return anw       \n",
    "    \n",
    "# non-zero value array\n",
    "else:\n",
    "    temp = 1\n",
    "    \n",
    "    # product every value\n",
    "    for num in nums:\n",
    "        temp *= num\n",
    "    anw = [temp] * len(nums)\n",
    "    \n",
    "    # divide only itself\n",
    "    for i, num in enumerate(nums):\n",
    "        anw[i] = anw[i]/num\n",
    "        \n",
    "    return anw"
   ]
  },
  {
   "cell_type": "code",
   "execution_count": 19,
   "id": "outer-conducting",
   "metadata": {},
   "outputs": [],
   "source": [
    "class Solution:\n",
    "    def productExceptSelf(self, nums: List[int]) -> List[int]:\n",
    "        if 0 in nums:\n",
    "            anw = [0] * len(nums)\n",
    "            zero_num = list(filter(lambda x: nums[x] == 0, range(len(nums))))\n",
    "\n",
    "            # if list has more than 2 zeros, all values are zero\n",
    "            if len(zero_num) > 1:\n",
    "                return anw\n",
    "\n",
    "            else:\n",
    "                del nums[zero_num[0]]\n",
    "                temp = 1\n",
    "                for num in nums:\n",
    "                    temp *= num\n",
    "                anw[zero_num[0]] = temp\n",
    "                return anw       \n",
    "\n",
    "        else:\n",
    "            temp = 1\n",
    "            for num in nums:\n",
    "                temp *= num\n",
    "            anw = [temp] * len(nums)\n",
    "\n",
    "            for i, num in enumerate(nums):\n",
    "                anw[i] = int(anw[i]/num)\n",
    "\n",
    "            return anw"
   ]
  }
 ],
 "metadata": {
  "kernelspec": {
   "display_name": "Python 3",
   "language": "python",
   "name": "python3"
  },
  "language_info": {
   "codemirror_mode": {
    "name": "ipython",
    "version": 3
   },
   "file_extension": ".py",
   "mimetype": "text/x-python",
   "name": "python",
   "nbconvert_exporter": "python",
   "pygments_lexer": "ipython3",
   "version": "3.8.5"
  }
 },
 "nbformat": 4,
 "nbformat_minor": 5
}
