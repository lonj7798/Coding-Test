{
 "cells": [
  {
   "cell_type": "code",
   "execution_count": null,
   "id": "unlikely-theme",
   "metadata": {},
   "outputs": [],
   "source": [
    "class Solution:\n",
    "    def isSymmetric(self, root: TreeNode) -> bool:\n",
    "        level = [root] if root else []\n",
    "        while level:\n",
    "            depth += 1\n",
    "            queue = []\n",
    "            for el in level:\n",
    "                if el.left:\n",
    "                    queue.append(el.left)\n",
    "                if el.right:\n",
    "                    queue.append(el.right)\n",
    "            if queue[0] != queue[1]\n",
    "            level = queue\n",
    "            \n",
    "        return depth"
   ]
  }
 ],
 "metadata": {
  "kernelspec": {
   "display_name": "Python 3",
   "language": "python",
   "name": "python3"
  },
  "language_info": {
   "codemirror_mode": {
    "name": "ipython",
    "version": 3
   },
   "file_extension": ".py",
   "mimetype": "text/x-python",
   "name": "python",
   "nbconvert_exporter": "python",
   "pygments_lexer": "ipython3",
   "version": "3.8.5"
  }
 },
 "nbformat": 4,
 "nbformat_minor": 5
}
