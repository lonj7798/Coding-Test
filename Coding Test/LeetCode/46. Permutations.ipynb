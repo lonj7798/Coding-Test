{
 "cells": [
  {
   "cell_type": "code",
   "execution_count": 1,
   "id": "durable-international",
   "metadata": {},
   "outputs": [],
   "source": [
    "nums = [1,2,3]"
   ]
  },
  {
   "cell_type": "code",
   "execution_count": 10,
   "id": "popular-airline",
   "metadata": {},
   "outputs": [
    {
     "ename": "IndentationError",
     "evalue": "unindent does not match any outer indentation level (<tokenize>, line 18)",
     "output_type": "error",
     "traceback": [
      "\u001b[1;36m  File \u001b[1;32m\"<tokenize>\"\u001b[1;36m, line \u001b[1;32m18\u001b[0m\n\u001b[1;33m    res = []\u001b[0m\n\u001b[1;37m    ^\u001b[0m\n\u001b[1;31mIndentationError\u001b[0m\u001b[1;31m:\u001b[0m unindent does not match any outer indentation level\n"
     ]
    }
   ],
   "source": [
    "def dfs(path, used, res):\n",
    "            if len(path) == len(nums):\n",
    "                res.append(path[:]) # note [:] make a deep copy since otherwise we'd be append the same list over and over\n",
    "                return\n",
    "\n",
    "            for i, letter in enumerate(nums):\n",
    "                # skip used letters\n",
    "                if used[i]:\n",
    "                    continue\n",
    "                # add letter to permutation, mark letter as used\n",
    "                path.append(letter)\n",
    "                used[i] = True\n",
    "                dfs(path, used, res)\n",
    "                # remove letter from permutation, mark letter as unused\n",
    "                path.pop()\n",
    "                used[i] = False\n",
    "            \n",
    "        res = []\n",
    "        dfs([], [False] * len(nums), res)\n",
    "        return res"
   ]
  },
  {
   "cell_type": "code",
   "execution_count": null,
   "id": "municipal-sharing",
   "metadata": {},
   "outputs": [],
   "source": []
  }
 ],
 "metadata": {
  "kernelspec": {
   "display_name": "Python 3",
   "language": "python",
   "name": "python3"
  },
  "language_info": {
   "codemirror_mode": {
    "name": "ipython",
    "version": 3
   },
   "file_extension": ".py",
   "mimetype": "text/x-python",
   "name": "python",
   "nbconvert_exporter": "python",
   "pygments_lexer": "ipython3",
   "version": "3.8.5"
  }
 },
 "nbformat": 4,
 "nbformat_minor": 5
}
