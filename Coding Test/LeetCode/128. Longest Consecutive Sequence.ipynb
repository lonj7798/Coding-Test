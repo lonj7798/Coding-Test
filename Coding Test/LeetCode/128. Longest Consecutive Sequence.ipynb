{
 "cells": [
  {
   "cell_type": "code",
   "execution_count": 88,
   "id": "acoustic-powell",
   "metadata": {},
   "outputs": [],
   "source": [
    "nums = [100,4,200,1,3,2]"
   ]
  },
  {
   "cell_type": "code",
   "execution_count": null,
   "id": "specific-postcard",
   "metadata": {},
   "outputs": [],
   "source": [
    "class Solution:\n",
    "    def longestConsecutive(self, nums: List[int]) -> int:\n",
    "        if nums == []:\n",
    "            return 0\n",
    "        \n",
    "        nums = list(set(nums))\n",
    "        nums.sort()\n",
    "\n",
    "        pre_num = nums[0]\n",
    "        max_len = 0\n",
    "        count = 1\n",
    "        for i,num in enumerate(nums[1:]):\n",
    "            if num == pre_num+1:\n",
    "                pre_num = num\n",
    "                count += 1\n",
    "            else:\n",
    "                if count >= max_len:\n",
    "                    max_len = count\n",
    "                pre_num = num\n",
    "                count = 1\n",
    "\n",
    "        return max(max_len, count)"
   ]
  }
 ],
 "metadata": {
  "kernelspec": {
   "display_name": "Python 3",
   "language": "python",
   "name": "python3"
  },
  "language_info": {
   "codemirror_mode": {
    "name": "ipython",
    "version": 3
   },
   "file_extension": ".py",
   "mimetype": "text/x-python",
   "name": "python",
   "nbconvert_exporter": "python",
   "pygments_lexer": "ipython3",
   "version": "3.8.5"
  }
 },
 "nbformat": 4,
 "nbformat_minor": 5
}
