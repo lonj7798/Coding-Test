{
 "cells": [
  {
   "cell_type": "code",
   "execution_count": null,
   "id": "prescribed-nicholas",
   "metadata": {},
   "outputs": [],
   "source": [
    "class Solution:\n",
    "    def singleNumber(self, nums: List[int]) -> int:\n",
    "        while(1):\n",
    "            temp = nums[0]\n",
    "            try:\n",
    "                nums.remove(temp)\n",
    "                nums.remove(temp)\n",
    "            except:\n",
    "                return temp"
   ]
  }
 ],
 "metadata": {
  "kernelspec": {
   "display_name": "Python 3",
   "language": "python",
   "name": "python3"
  },
  "language_info": {
   "codemirror_mode": {
    "name": "ipython",
    "version": 3
   },
   "file_extension": ".py",
   "mimetype": "text/x-python",
   "name": "python",
   "nbconvert_exporter": "python",
   "pygments_lexer": "ipython3",
   "version": "3.8.5"
  }
 },
 "nbformat": 4,
 "nbformat_minor": 5
}
