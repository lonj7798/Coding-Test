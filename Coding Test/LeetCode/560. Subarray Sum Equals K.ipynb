{
 "cells": [
  {
   "cell_type": "code",
   "execution_count": 176,
   "id": "noble-toronto",
   "metadata": {},
   "outputs": [],
   "source": [
    "nums = [1,2,3]\n",
    "k = 3"
   ]
  },
  {
   "cell_type": "code",
   "execution_count": 178,
   "id": "applied-roads",
   "metadata": {
    "scrolled": true
   },
   "outputs": [],
   "source": [
    "count = 0\n",
    "sums = 0\n",
    "d = dict()\n",
    "d[0] = 1\n",
    "\n",
    "for i in range(len(nums)):\n",
    "    sums += nums[i]\n",
    "    count += d.get(sums-k,0)\n",
    "    d[sums] = d.get(sums,0) + 1"
   ]
  },
  {
   "cell_type": "code",
   "execution_count": 179,
   "id": "careful-sterling",
   "metadata": {},
   "outputs": [
    {
     "name": "stdout",
     "output_type": "stream",
     "text": [
      "2\n"
     ]
    }
   ],
   "source": [
    "print(sol)"
   ]
  },
  {
   "cell_type": "code",
   "execution_count": null,
   "id": "instructional-baking",
   "metadata": {},
   "outputs": [],
   "source": []
  }
 ],
 "metadata": {
  "kernelspec": {
   "display_name": "Python 3",
   "language": "python",
   "name": "python3"
  },
  "language_info": {
   "codemirror_mode": {
    "name": "ipython",
    "version": 3
   },
   "file_extension": ".py",
   "mimetype": "text/x-python",
   "name": "python",
   "nbconvert_exporter": "python",
   "pygments_lexer": "ipython3",
   "version": "3.8.5"
  }
 },
 "nbformat": 4,
 "nbformat_minor": 5
}
