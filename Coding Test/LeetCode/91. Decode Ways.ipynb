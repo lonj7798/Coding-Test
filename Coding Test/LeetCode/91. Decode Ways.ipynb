{
 "cells": [
  {
   "cell_type": "code",
   "execution_count": null,
   "id": "ruled-affairs",
   "metadata": {},
   "outputs": [],
   "source": [
    "class Solution:\n",
    "    def numDecodings(self, s: str) -> int:\n",
    "        mapping = set([str(x) for x in range(1, 27)])\n",
    "        n = len(s)\n",
    "        if n == 1:\n",
    "            return int(s[0] in mapping)\n",
    "\n",
    "        T = [0] * n\n",
    "        T[0] = int(s[0] in mapping)\n",
    "        T[1] = (s[0] in mapping and s[1] in mapping) + (s[:2] in mapping)\n",
    "        for i in range(2, n):\n",
    "            T[i] = (s[i] in mapping) * T[i - 1] + (s[i-1:i+1] in mapping) * T[i - 2]\n",
    "\n",
    "        return T[-1]"
   ]
  }
 ],
 "metadata": {
  "kernelspec": {
   "display_name": "Python 3",
   "language": "python",
   "name": "python3"
  },
  "language_info": {
   "codemirror_mode": {
    "name": "ipython",
    "version": 3
   },
   "file_extension": ".py",
   "mimetype": "text/x-python",
   "name": "python",
   "nbconvert_exporter": "python",
   "pygments_lexer": "ipython3",
   "version": "3.8.5"
  }
 },
 "nbformat": 4,
 "nbformat_minor": 5
}
