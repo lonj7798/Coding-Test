{
 "cells": [
  {
   "cell_type": "code",
   "execution_count": 69,
   "id": "certain-elder",
   "metadata": {},
   "outputs": [],
   "source": [
    "x = 123456"
   ]
  },
  {
   "cell_type": "code",
   "execution_count": 75,
   "id": "hungry-syndication",
   "metadata": {},
   "outputs": [
    {
     "name": "stdout",
     "output_type": "stream",
     "text": [
      "654321\n"
     ]
    }
   ],
   "source": [
    "anw = 0\n",
    "\n",
    "if x > 0:\n",
    "    x_list = list(str(x))\n",
    "    anw = int(''.join(reversed(x_list)))\n",
    "elif x < 0:\n",
    "    x_list = list(str(x*-1))\n",
    "    anw = int(''.join(reversed(x_list))) * -1\n",
    "else:\n",
    "    print(0)\n",
    "    \n",
    "if (anw < (2**31)-1)&(anw >= -(2**31)):\n",
    "    print(anw)\n",
    "else:\n",
    "    print(0)"
   ]
  },
  {
   "cell_type": "code",
   "execution_count": null,
   "id": "stock-civilization",
   "metadata": {},
   "outputs": [],
   "source": [
    "class Solution:\n",
    "    def reverse(self, x: int) -> int:\n",
    "        anw = 0\n",
    "\n",
    "        if x > 0:\n",
    "            x_list = list(str(x))\n",
    "            anw = int(''.join(reversed(x_list)))\n",
    "        elif x < 0:\n",
    "            x_list = list(str(x*-1))\n",
    "            anw = int(''.join(reversed(x_list))) * -1\n",
    "        else:\n",
    "            return 0\n",
    "\n",
    "        if (anw < (2**31)-1)&(anw >= -(2**31)):\n",
    "            return anw\n",
    "        else:\n",
    "            return 0"
   ]
  }
 ],
 "metadata": {
  "kernelspec": {
   "display_name": "Python 3",
   "language": "python",
   "name": "python3"
  },
  "language_info": {
   "codemirror_mode": {
    "name": "ipython",
    "version": 3
   },
   "file_extension": ".py",
   "mimetype": "text/x-python",
   "name": "python",
   "nbconvert_exporter": "python",
   "pygments_lexer": "ipython3",
   "version": "3.8.5"
  }
 },
 "nbformat": 4,
 "nbformat_minor": 5
}
