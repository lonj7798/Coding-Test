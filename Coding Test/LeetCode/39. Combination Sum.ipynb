{
 "cells": [
  {
   "cell_type": "code",
   "execution_count": 6,
   "id": "orange-present",
   "metadata": {},
   "outputs": [],
   "source": [
    "andidates = [2,3,6,7]\n",
    "target = 7"
   ]
  },
  {
   "cell_type": "code",
   "execution_count": 8,
   "id": "skilled-ultimate",
   "metadata": {},
   "outputs": [
    {
     "name": "stdout",
     "output_type": "stream",
     "text": [
      "None\n"
     ]
    }
   ],
   "source": [
    "def dfs(remain, combo, index):\n",
    "    if remain == 0:\n",
    "        result.append(combo)\n",
    "        return\n",
    "    for i in range(index, len(candy)):\n",
    "        if candy[i] > remain:\n",
    "            # exceeded the sum with candidate[i]\n",
    "            break #the for loop\n",
    "\n",
    "        dfs(remain - candy[i], combo + [candy[i]], i)\n",
    "\n",
    "candy = sorted(candidates)\n",
    "result = []\n",
    "dfs(target, [], 0))\n",
    "return result"
   ]
  },
  {
   "cell_type": "code",
   "execution_count": 9,
   "id": "unlike-patrol",
   "metadata": {},
   "outputs": [
    {
     "name": "stdout",
     "output_type": "stream",
     "text": [
      "[[2, 2, 3], [7]]\n"
     ]
    }
   ],
   "source": [
    "print(result)"
   ]
  },
  {
   "cell_type": "code",
   "execution_count": null,
   "id": "pharmaceutical-creature",
   "metadata": {},
   "outputs": [],
   "source": []
  }
 ],
 "metadata": {
  "kernelspec": {
   "display_name": "Python 3",
   "language": "python",
   "name": "python3"
  },
  "language_info": {
   "codemirror_mode": {
    "name": "ipython",
    "version": 3
   },
   "file_extension": ".py",
   "mimetype": "text/x-python",
   "name": "python",
   "nbconvert_exporter": "python",
   "pygments_lexer": "ipython3",
   "version": "3.8.5"
  }
 },
 "nbformat": 4,
 "nbformat_minor": 5
}
