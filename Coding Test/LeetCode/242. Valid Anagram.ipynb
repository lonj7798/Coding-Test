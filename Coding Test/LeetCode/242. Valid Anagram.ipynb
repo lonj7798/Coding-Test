{
 "cells": [
  {
   "cell_type": "code",
   "execution_count": 3,
   "id": "derived-manual",
   "metadata": {},
   "outputs": [],
   "source": [
    "s = \"anagram\"\n",
    "t = \"nagaram\""
   ]
  },
  {
   "cell_type": "code",
   "execution_count": 8,
   "id": "delayed-protocol",
   "metadata": {},
   "outputs": [
    {
     "ename": "SyntaxError",
     "evalue": "'return' outside function (<ipython-input-8-0908888ce6bd>, line 2)",
     "output_type": "error",
     "traceback": [
      "\u001b[1;36m  File \u001b[1;32m\"<ipython-input-8-0908888ce6bd>\"\u001b[1;36m, line \u001b[1;32m2\u001b[0m\n\u001b[1;33m    return True\u001b[0m\n\u001b[1;37m    ^\u001b[0m\n\u001b[1;31mSyntaxError\u001b[0m\u001b[1;31m:\u001b[0m 'return' outside function\n"
     ]
    }
   ],
   "source": [
    "if sorted(s) == sorted(t):\n",
    "    return True\n",
    "else:\n",
    "    return False"
   ]
  },
  {
   "cell_type": "code",
   "execution_count": null,
   "id": "funded-teaching",
   "metadata": {},
   "outputs": [],
   "source": []
  }
 ],
 "metadata": {
  "kernelspec": {
   "display_name": "Python 3",
   "language": "python",
   "name": "python3"
  },
  "language_info": {
   "codemirror_mode": {
    "name": "ipython",
    "version": 3
   },
   "file_extension": ".py",
   "mimetype": "text/x-python",
   "name": "python",
   "nbconvert_exporter": "python",
   "pygments_lexer": "ipython3",
   "version": "3.8.5"
  }
 },
 "nbformat": 4,
 "nbformat_minor": 5
}
